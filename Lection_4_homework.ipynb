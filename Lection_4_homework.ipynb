{
 "cells": [
  {
   "cell_type": "markdown",
   "metadata": {},
   "source": [
    "Задание 1. Дан список с визитами по городам и странам. Напишите код, который возвращает отфильтрованный список geo_logs, содержащий только визиты из России."
   ]
  },
  {
   "cell_type": "code",
   "execution_count": 28,
   "metadata": {},
   "outputs": [
    {
     "name": "stdout",
     "output_type": "stream",
     "text": [
      "Введите название страны: Россия\n",
      "[{'visit1': ['Москва', 'Россия']}, {'visit3': ['Владимир', 'Россия']}, {'visit7': ['Тула', 'Россия']}, {'visit8': ['Тула', 'Россия']}, {'visit9': ['Курск', 'Россия']}, {'visit10': ['Архангельск', 'Россия']}]\n"
     ]
    }
   ],
   "source": [
    "geo_logs = [\n",
    "    {'visit1': ['Москва', 'Россия']},\n",
    "    {'visit2': ['Дели', 'Индия']},\n",
    "    {'visit3': ['Владимир', 'Россия']},\n",
    "    {'visit4': ['Лиссабон', 'Португалия']},\n",
    "    {'visit5': ['Париж', 'Франция']},\n",
    "    {'visit6': ['Лиссабон', 'Португалия']},\n",
    "    {'visit7': ['Тула', 'Россия']},\n",
    "    {'visit8': ['Тула', 'Россия']},\n",
    "    {'visit9': ['Курск', 'Россия']},\n",
    "    {'visit10': ['Архангельск', 'Россия']}\n",
    "]\n",
    "geo_logs_1 = []\n",
    "target = input('Введите название страны: ')\n",
    "for details in geo_logs:\n",
    "    for city, country in details.values():\n",
    "        goal = city, country\n",
    "        if target in goal:\n",
    "            geo_logs_1.append(details)\n",
    "print(geo_logs_1)"
   ]
  },
  {
   "cell_type": "markdown",
   "metadata": {},
   "source": [
    "Задание 2. Выведите на экран все уникальные гео-ID из значений словаря ids. Т. е. список вида [213, 15, 54, 119, 98, 35]"
   ]
  },
  {
   "cell_type": "code",
   "execution_count": 24,
   "metadata": {},
   "outputs": [
    {
     "name": "stdout",
     "output_type": "stream",
     "text": [
      "[98, 35, 15, 213, 54, 119]\n"
     ]
    }
   ],
   "source": [
    "ids = {'user1': [213, 213, 213, 15, 213], \n",
    "       'user2': [54, 54, 119, 119, 119], \n",
    "       'user3': [213, 98, 98, 35]}\n",
    "geo_ID = []\n",
    "for keys, values in ids.items():\n",
    "    values\n",
    "    geo_ID.extend(values)\n",
    "print(list(set(geo_ID)))"
   ]
  },
  {
   "cell_type": "markdown",
   "metadata": {},
   "source": [
    "Задание 3. Дан список поисковых запросов. Получить распределение количества слов в них. Т. е. поисковых запросов из одного - слова 5%, из двух - 7%, из трех - 3% и т.д."
   ]
  },
  {
   "cell_type": "code",
   "execution_count": 29,
   "metadata": {},
   "outputs": [
    {
     "name": "stdout",
     "output_type": "stream",
     "text": [
      "Запросов длиной в 2 слов(а) - 42.86%. Запросов длиной в 3 слов(а) - 57.14%. "
     ]
    }
   ],
   "source": [
    "#Мой вариант.\n",
    "queries = [\n",
    "    'смотреть сериалы онлайн',\n",
    "    'новости спорта',\n",
    "    'афиша кино',\n",
    "    'курс доллара',\n",
    "    'сериалы этим летом',\n",
    "    'курс по питону',\n",
    "    'сериалы про спорт',\n",
    "]\n",
    "\n",
    "i = 0\n",
    "n = 0\n",
    "qleng = len(queries)\n",
    "leng = []\n",
    "type_leng = []\n",
    "share = []\n",
    "w_num = []\n",
    "\n",
    "for words in queries:\n",
    "    num = words.split(' ')\n",
    "    leng.append(len(num))\n",
    "#print(leng)\n",
    "\n",
    "set_leng = set(leng)\n",
    "#print(set_leng)\n",
    "\n",
    "for el in set_leng:\n",
    "    w_num.append(el)\n",
    "#print(w_num)\n",
    "\n",
    "for el in set_leng:\n",
    "    type_leng.append(leng.count(el))\n",
    "#print(type_leng)\n",
    "\n",
    "for el in type_leng:\n",
    "    el = el / qleng * 100\n",
    "    share.append(round(el, 2))\n",
    "#print(share)\n",
    "\n",
    "share_types = {}\n",
    "for el in w_num:\n",
    "    share_types[i] = el\n",
    "    i += 1\n",
    "    \n",
    "share_percent = {}\n",
    "for el in share:\n",
    "    share_percent[n] = el\n",
    "    n += 1\n",
    "\n",
    "result = list(zip(share_types.values(), share_percent.values()))\n",
    "#print(result)\n",
    "for el in result:\n",
    "    print(f'Запросов длиной в {el[0]} слов(а) - {el[1]}%.', end = ' ')"
   ]
  },
  {
   "cell_type": "code",
   "execution_count": 3,
   "metadata": {},
   "outputs": [
    {
     "name": "stdout",
     "output_type": "stream",
     "text": [
      "Запросов длиной в  2 слов(а) -  42.86 %. Запросов длиной в  3 слов(а) -  57.14 %. "
     ]
    }
   ],
   "source": [
    "#Вариант решения найденный в недрах слака. Вставил себе в качестве примера, как еще можно решить.\n",
    "queries = [\n",
    "    'смотреть сериалы онлайн',\n",
    "    'новости спорта',\n",
    "    'афиша кино',\n",
    "    'курс доллара',\n",
    "    'сериалы этим летом',\n",
    "    'курс по питону',\n",
    "    'сериалы про спорт',\n",
    "]\n",
    "\n",
    "count1 = 0\n",
    "count2 = []\n",
    "for el in queries:\n",
    "    count1 = len(el.split())\n",
    "    count2.append(count1)\n",
    "my_set = set(count2)\n",
    "#print(my_set)\n",
    "for el in my_set:\n",
    "    count3 = count2.count(el)\n",
    "    print('Запросов длиной в ',el, 'слов(а) - ', round(count3/len(count2)*100, 2), '%', end = '. ')"
   ]
  },
  {
   "cell_type": "markdown",
   "metadata": {},
   "source": [
    "Задание 4. Дана статистика рекламных каналов по объемам продаж. Напишите скрипт, который возвращает название канала с максимальным объемом. Т. е. в данном примере скрипт должен возвращать 'yandex'."
   ]
  },
  {
   "cell_type": "code",
   "execution_count": 12,
   "metadata": {},
   "outputs": [
    {
     "name": "stdout",
     "output_type": "stream",
     "text": [
      "yandex\n"
     ]
    }
   ],
   "source": [
    "stats = {'facebook': 55, 'yandex': 120, 'vk': 115, 'google': 99, 'email': 42, 'ok': 98}\n",
    "my_value = 0\n",
    "my_key = []\n",
    "for key, value in stats.items(): \n",
    "    if value > my_value:\n",
    "        my_value = value\n",
    "        my_key = key\n",
    "        \n",
    "print(my_key)"
   ]
  },
  {
   "cell_type": "markdown",
   "metadata": {},
   "source": [
    "Задание 5. Напишите код для преобразования произвольного списка вида ['2018-01-01', 'yandex', 'cpc', 100] (он может быть любой длины) в словарь {'2018-01-01': {'yandex': {'cpc': 100}}}"
   ]
  },
  {
   "cell_type": "code",
   "execution_count": 30,
   "metadata": {},
   "outputs": [
    {
     "name": "stdout",
     "output_type": "stream",
     "text": [
      "{'2018-01-01': {'yandex': {'cpc': 100}}}\n"
     ]
    }
   ],
   "source": [
    "#Решал опираясь на треды в слаке\n",
    "my_list = ['2018-01-01', 'yandex', 'cpc', 100]\n",
    "my_dict = {my_list[-2]: my_list[-1]}\n",
    "#print(my_dict)\n",
    "cut_list = my_list[: -2]\n",
    "#print(cut_list)\n",
    "cut_list.reverse()\n",
    "\n",
    "for el in cut_list:\n",
    "    my_dict = {el:my_dict}\n",
    "print(my_dict)"
   ]
  }
 ],
 "metadata": {
  "kernelspec": {
   "display_name": "Python 3",
   "language": "python",
   "name": "python3"
  },
  "language_info": {
   "codemirror_mode": {
    "name": "ipython",
    "version": 3
   },
   "file_extension": ".py",
   "mimetype": "text/x-python",
   "name": "python",
   "nbconvert_exporter": "python",
   "pygments_lexer": "ipython3",
   "version": "3.7.6"
  }
 },
 "nbformat": 4,
 "nbformat_minor": 4
}
