{
 "cells": [
  {
   "cell_type": "markdown",
   "metadata": {},
   "source": [
    "Задача 1. Дано слово из латинских букв. Напишите скрипт, который выводит на экран букву из середины слова (если число букв нечетное). Если букв четное число, то на экран выводятся две буквы из середины.\n",
    "\n",
    "Пример: для 'test' должно выводится 'es', для 'testing' - 't'"
   ]
  },
  {
   "cell_type": "code",
   "execution_count": 1,
   "metadata": {},
   "outputs": [
    {
     "name": "stdout",
     "output_type": "stream",
     "text": [
      "Напишите любое слово: programming\n",
      "Длина слова 11 букв.\n",
      "Средняя буква в данном слове:  a\n"
     ]
    }
   ],
   "source": [
    "word = input('Напишите любое слово: ')\n",
    "print (f'Длина слова {len(word)} букв.')\n",
    "len(word)\n",
    "if len(word) == 3:\n",
    "    print('Средняя буква в данном слове: ', word[1])\n",
    "elif len(word) == 4:\n",
    "    print('Средние буквы в данном слове: ', word[1:3])\n",
    "elif len(word) == 5:\n",
    "    print('Средняя буква в данном слове: ', word[2])\n",
    "elif len(word) == 6:\n",
    "    print('Средние буквы в данном слове: ', word[2:4])\n",
    "elif len(word) == 7:\n",
    "    print('Средняя буква в данном слове: ', word[3])\n",
    "elif len(word) == 8:\n",
    "    print('Средние буквы в данном слове: ', word[3:5])\n",
    "elif len(word) == 9:\n",
    "    print('Средняя буква в данном слове: ', word[4])\n",
    "elif len(word) == 10:\n",
    "    print('Средние буквы в данном слове: ', word[4:6])\n",
    "elif len(word) == 11:\n",
    "    print('Средняя буква в данном слове: ', word[5])\n",
    "elif len(word) == 12:\n",
    "    print('Средние буквы в данном слове: ', word[5:7])\n",
    "elif len(word) == 13:\n",
    "    print('Средняя буква в данном слове: ', word[6])\n",
    "elif len(word) == 14:\n",
    "    print('Средние буквы в данном слове: ', word[6:8])\n",
    "elif len(word) == 15:\n",
    "    print('Средняя буква в данном слове: ', word[7])\n",
    "elif len(word) == 16:\n",
    "    print('Средние буквы в данном слове: ', word[7:9])\n",
    "elif len(word) == 17:\n",
    "    print('Средняя буква в данном слове: ', word[8])\n",
    "elif len(word) == 18:\n",
    "    print('Средние буквы в данном слове: ', word[8:10])\n",
    "elif len(word) == 19:\n",
    "    print('Средняя буква в данном слове: ', word[9])\n",
    "elif len(word) == 20:\n",
    "    print('Средние буквы в данном слове: ', word[9:11])\n",
    "elif len(word) == 21:\n",
    "    print('Средняя буква в данном слове: ', word[10])\n",
    "elif len(word) == 22:\n",
    "    print('Средние буквы в данном слове: ', word[10:12])\n",
    "elif len(word) == 23:\n",
    "    print('Средняя буква в данном слове: ', word[11])\n",
    "elif len(word) == 24:\n",
    "    print('Средние буквы в данном слове: ', word[11:13])\n",
    "elif len(word) == 25:\n",
    "    print('Средняя буква в данном слове: ', word[12])\n",
    "elif len(word) == 26:\n",
    "    print('Средние буквы в данном слове: ', word[12:14])\n",
    "elif len(word) == 27:\n",
    "    print('Средняя буква в данном слове: ', word[13])\n",
    "elif len(word) == 28:\n",
    "    print('Средние буквы в данном слове: ', word[13:15])\n",
    "elif len(word) == 29:\n",
    "    print('Средняя буква в данном слове: ', word[14])\n",
    "elif len(word) == 30:\n",
    "    print('Средние буквы в данном слове: ', word[14:16])\n",
    "elif len(word) == 31:\n",
    "    print('Средняя буква в данном слове: ', word[15])\n",
    "elif len(word) == 32:\n",
    "    print('Средние буквы в данном слове: ', word[15:17])\n",
    "elif len(word) == 33:\n",
    "    print('Средняя буква в данном слове: ', word[16])\n",
    "else:\n",
    "    print ('Слово слишком длинное. Попробуйте покороче.')"
   ]
  },
  {
   "cell_type": "markdown",
   "metadata": {},
   "source": [
    "Задача 2. Мы делаем MVP dating-сервиса, и у нас есть список парней и девушек (их число может варьироваться):"
   ]
  },
  {
   "cell_type": "code",
   "execution_count": null,
   "metadata": {},
   "outputs": [],
   "source": [
    "boys = ['Peter', 'Alex', 'John', 'Arthur', 'Richard']\n",
    "girls = ['Kate', 'Liza', 'Kira', 'Emma', 'Trisha']"
   ]
  },
  {
   "cell_type": "markdown",
   "metadata": {},
   "source": [
    "Выдвигаем гипотезу: лучшие рекомендации мы получим, если просто отсортируем имена по алфавиту и познакомим людей с одинаковыми индексами после сортировки! \"Познакомить\" пары нам поможет функция zip, а в цикле распакуем zip-объект и выведем информацию в виде:\n",
    "\n",
    "Идеальные пары:\n",
    "Alex и Emma\n",
    "Arthur и Kate\n",
    "John и Kira\n",
    "Peter и Liza\n",
    "Richard и Trisha\n",
    "\n",
    "Внимание! Если количество людей в списках будет не совпадать, то мы никого знакомить не будет и выведем пользователю предупреждение, что кто-то может остаться без пары!"
   ]
  },
  {
   "cell_type": "code",
   "execution_count": 40,
   "metadata": {},
   "outputs": [
    {
     "name": "stdout",
     "output_type": "stream",
     "text": [
      "Perfect couples: \n",
      "Alex  and  Emma\n",
      "Arthur  and  Kate\n",
      "John  and  Kira\n",
      "Peter  and  Liza\n",
      "Richard  and  Trisha\n",
      "Yan will be alone.\n"
     ]
    }
   ],
   "source": [
    "boys = ['Peter', 'Alex', 'John', 'Arthur', 'Richard', 'Yan']\n",
    "girls = ['Kate', 'Liza', 'Kira', 'Emma', 'Trisha']\n",
    "\n",
    "boys_1 = sorted(list(boys))\n",
    "girls_1 = sorted(list(girls))\n",
    "pairs = list(zip(list(boys_1),list(girls_1)))\n",
    "print('Perfect couples: ')\n",
    "for pairs in list(pairs):\n",
    "    print(pairs[0],' and ',pairs[1])\n",
    "    continue\n",
    "if len(boys_1) > len(girls_1):\n",
    "    print (f'{boys_1[-1]} will be alone.')\n",
    "elif len(girls_1) > len(boys_1):\n",
    "    print (f'{girls_1[-1]} will be alone.')"
   ]
  },
  {
   "cell_type": "markdown",
   "metadata": {},
   "source": [
    "Задача 3. У нас есть список, содержащий информацию о среднедневной температуре в Фаренгейтах за недельный период по странам. Необходимо написать код, который рассчитает среднюю температуру за неделю в Цельсиях для каждой страны."
   ]
  },
  {
   "cell_type": "code",
   "execution_count": 18,
   "metadata": {},
   "outputs": [
    {
     "name": "stdout",
     "output_type": "stream",
     "text": [
      "Thailand average temperature is 262 Fahrenheit.\n",
      "Germany average temperature is 198 Fahrenheit.\n",
      "Russia average temperature is 135 Fahrenheit.\n",
      "Poland average temperature is 186 Fahrenheit.\n"
     ]
    }
   ],
   "source": [
    "countries_temperature = [\n",
    " ['Thailand', [75.2, 77, 78.8, 73.4, 68, 75.2, 77]],\n",
    " ['Germany', [57.2, 55.4, 59, 59, 53.6, 55.4, 57.2]],\n",
    " ['Russia', [35.6, 37.4, 39.2, 41, 42.8, 39.2, 35.6]],\n",
    " ['Poland', [50, 50, 53.6, 57.2, 55.4, 55.4, 51.8]],\n",
    "]\n",
    "for temperature in countries_temperature:\n",
    "    len(temperature[1])\n",
    "    total = sum(temperature[1]) / len(temperature)\n",
    "    print(f'{temperature[0]} average temperature is {int(total)} Fahrenheit.')"
   ]
  },
  {
   "cell_type": "markdown",
   "metadata": {},
   "source": [
    "Задача 4. Дан поток логов по количеству просмотренных страниц для каждого пользователя. Список отсортирован по ID пользователя. Вам необходимо написать алгоритм, который считает среднее значение просмотров на пользователя. Т. е. надо посчитать отношение суммы всех просмотров к количеству уникальных пользователей."
   ]
  },
  {
   "cell_type": "code",
   "execution_count": 51,
   "metadata": {},
   "outputs": [
    {
     "name": "stdout",
     "output_type": "stream",
     "text": [
      "В среднем каждый пользователь сделал 23.25 просмотров.\n"
     ]
    }
   ],
   "source": [
    "stream = [\n",
    "    '2018-01-01,user1,3',\n",
    "    '2018-01-07,user1,4',\n",
    "    '2018-03-29,user1,1',\n",
    "    '2018-04-04,user1,13',\n",
    "    '2018-01-05,user2,7',\n",
    "    '2018-06-14,user3,4',\n",
    "    '2018-07-02,user3,10',\n",
    "    '2018-03-21,user4,19',\n",
    "    '2018-03-22,user4,4',\n",
    "    '2018-04-22,user4,8',\n",
    "    '2018-05-03,user4,9',\n",
    "    '2018-05-11,user4,11',\n",
    "]\n",
    "sum_views = 0\n",
    "users = []\n",
    "\n",
    "for element in stream:\n",
    "    el_spl = element.split(',')\n",
    "    #print(el_spl)\n",
    "    sum_views += int(el_spl[2])\n",
    "    #print(sum_views)\n",
    "    if el_spl not in users:\n",
    "        users.append(el_spl[1])\n",
    "#print(sum_views)\n",
    "set(users)\n",
    "users_1 = sorted(set(users))\n",
    "#print(users_1)\n",
    "result = sum_views / len(users_1)\n",
    "print(f'В среднем каждый пользователь сделал {result} просмотров.')"
   ]
  },
  {
   "cell_type": "markdown",
   "metadata": {},
   "source": [
    "Задача 5. Дана статистика рекламных кампаний по дням. Напишите алгоритм, который по паре дата-кампания ищет значение численного столбца. Т. е. для даты '2018-01-01' и 'google' нужно получить число 25. Считайте, что все комбинации дата-кампания уникальны."
   ]
  },
  {
   "cell_type": "code",
   "execution_count": 6,
   "metadata": {},
   "outputs": [
    {
     "name": "stdout",
     "output_type": "stream",
     "text": [
      "Введите дату в формате \"yyyy-mm-dd\": 2018-01-03\n",
      "Введите название компании: Yandex\n",
      "1327\n"
     ]
    }
   ],
   "source": [
    "stats = [\n",
    "    ['2018-01-01', 'google', 25],\n",
    "    ['2018-01-01', 'yandex', 65],\n",
    "    ['2018-01-01', 'market', 89],\n",
    "    ['2018-01-02', 'google', 574],\n",
    "    ['2018-01-02', 'yandex', 249],\n",
    "    ['2018-01-02', 'market', 994],\n",
    "    ['2018-01-03', 'google', 1843],\n",
    "    ['2018-01-03', 'yandex', 1327],\n",
    "    ['2018-01-03', 'market', 1764],\n",
    "]\n",
    "date = (input('Введите дату в формате \"yyyy-mm-dd\": '))\n",
    "company = (input('Введите название компании: '))\n",
    "company.lower()\n",
    "for data in stats:\n",
    "    data\n",
    "    if date in data[0] and company.lower() in data[1]:\n",
    "        print(data[2])\n",
    "else:\n",
    "    if date not in data[0] and company.lower() not in data[1]:\n",
    "        print('Данные не найдены.')"
   ]
  },
  {
   "cell_type": "markdown",
   "metadata": {},
   "source": [
    "Задача 6. Дан список вида:"
   ]
  },
  {
   "cell_type": "code",
   "execution_count": null,
   "metadata": {},
   "outputs": [],
   "source": [
    "data = [\n",
    "    [13, 25, 23, 34],\n",
    "    [45, 32, 44, 47],\n",
    "    [12, 33, 23, 95],\n",
    "    [13, 53, 34, 35]\n",
    "]"
   ]
  },
  {
   "cell_type": "markdown",
   "metadata": {},
   "source": [
    "Напишите код, который будет вычислять сумму элементов на диагонали. Т. е. 13+32+23+35.\n",
    "Список может быть любой длины, но всегда является \"квадратным\" (количество элементов во вложенных списках равно их количеству)."
   ]
  },
  {
   "cell_type": "code",
   "execution_count": 39,
   "metadata": {},
   "outputs": [
    {
     "name": "stdout",
     "output_type": "stream",
     "text": [
      "103\n"
     ]
    }
   ],
   "source": [
    "data = [\n",
    "    [13, 25, 23, 34],\n",
    "    [45, 32, 44, 47],\n",
    "    [12, 33, 23, 95],\n",
    "    [13, 53, 34, 35]\n",
    "]\n",
    "sum_f = 0\n",
    "i = 0\n",
    "x = data[i][i]\n",
    "total = 0\n",
    "#print(x)\n",
    "for el in data:\n",
    "    sum_f = el[i]\n",
    "    i += 1\n",
    "    total += sum_f\n",
    "print(total)"
   ]
  }
 ],
 "metadata": {
  "kernelspec": {
   "display_name": "Python 3",
   "language": "python",
   "name": "python3"
  },
  "language_info": {
   "codemirror_mode": {
    "name": "ipython",
    "version": 3
   },
   "file_extension": ".py",
   "mimetype": "text/x-python",
   "name": "python",
   "nbconvert_exporter": "python",
   "pygments_lexer": "ipython3",
   "version": "3.7.6"
  }
 },
 "nbformat": 4,
 "nbformat_minor": 4
}
