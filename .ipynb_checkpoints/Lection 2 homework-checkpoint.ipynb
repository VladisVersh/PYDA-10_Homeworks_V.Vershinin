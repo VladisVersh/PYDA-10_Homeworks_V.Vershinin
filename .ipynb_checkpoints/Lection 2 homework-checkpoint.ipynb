{
 "cells": [
  {
   "cell_type": "markdown",
   "metadata": {},
   "source": [
    "Задание 1. Даны 2 строки: long_phrase и short_phrase. Напишите код, который проверяет действительно ли длинная фраза long_phrase длиннее короткой short_phrase. И выводит True или False в зависимости от результата сравнения."
   ]
  },
  {
   "cell_type": "code",
   "execution_count": 12,
   "metadata": {
    "scrolled": true
   },
   "outputs": [
    {
     "data": {
      "text/plain": [
       "True"
      ]
     },
     "execution_count": 12,
     "metadata": {},
     "output_type": "execute_result"
    }
   ],
   "source": [
    "long_phrase = 'Насколько проще было бы писать программы, если бы не заказчики'\n",
    "short_phrase = '640Кб должно хватить для любых задач. Билл Гейтс (по легенде)'\n",
    "len (long_phrase) > len (short_phrase)"
   ]
  },
  {
   "cell_type": "markdown",
   "metadata": {},
   "source": [
    "Задание 2. Дано значение объема файла в байтах (в мегабайте 2^20 байт). Напишите перевод этого значения в мегабайты в формате: \"Объем файла равен 213.68Mb\"."
   ]
  },
  {
   "cell_type": "code",
   "execution_count": 11,
   "metadata": {},
   "outputs": [
    {
     "name": "stdout",
     "output_type": "stream",
     "text": [
      "Введите данные в байтах 213000000\n",
      "Объем файла равен  203.13 Mb\n"
     ]
    }
   ],
   "source": [
    "user_input = int(input('Введите данные в байтах '))\n",
    "size = user_input / 2**20\n",
    "size = float('{:.2f}'.format(size))\n",
    "print ('Объем файла равен ', size,'Mb')"
   ]
  },
  {
   "cell_type": "markdown",
   "metadata": {},
   "source": [
    "Задание 3. Разработать приложение для определения знака зодиака по дате рождения. Пример:\n",
    "Введите месяц: март\n",
    "Введите число: 6\n",
    "Вывод: Рыбы"
   ]
  },
  {
   "cell_type": "code",
   "execution_count": 10,
   "metadata": {},
   "outputs": [
    {
     "name": "stdout",
     "output_type": "stream",
     "text": [
      "Введите месяц: декабрь\n",
      "Введите число: 18\n",
      "Ваш знак зодиака Стрелец\n"
     ]
    }
   ],
   "source": [
    "# Даты рассчитаны из календаря 2020 года\n",
    "jan = 'январь'\n",
    "feb = 'февраль'\n",
    "mar = 'март'\n",
    "apr = 'апрель'\n",
    "may = 'май'\n",
    "jun = 'июнь'\n",
    "jul = 'июль'\n",
    "aug = 'август'\n",
    "sep = 'сентябрь'\n",
    "octb = 'октябрь'\n",
    "nov = 'ноябрь'\n",
    "dec = 'декабрь'\n",
    "month = input('Введите месяц: ')\n",
    "date = int(input('Введите число: '))\n",
    "if month == jan and date >= 20 and date <= 31 or month == feb and date >= 1 and date <= 19:\n",
    "    print ('Ваш знак зодиака Водолей')\n",
    "elif month == feb and date >= 20 and date <= 29 or month == mar and date >= 1 and date <= 20:\n",
    "    print ('Ваш знак зодиака Рыбы')\n",
    "elif month == mar and date >= 21 and date <= 31 or month == apr and date >= 1 and date <= 20:\n",
    "    print ('Ваш знак зодиака Овен')    \n",
    "elif month == apr and date >= 21 and date <= 30 or month == may and date >= 1 and date <= 20:\n",
    "    print ('Ваш знак зодиака Телец')\n",
    "elif month == may and date >= 21 and date <= 31 or month == jun and date >= 1 and date <= 20:\n",
    "    print ('Ваш знак зодиака Близнецы')\n",
    "elif month == jun and date >= 21 and date <= 30 or month == jul and date >= 1 and date <= 22:\n",
    "    print ('Ваш знак зодиака Рак')    \n",
    "elif month == jul and date >= 23 and date <= 31 or month == aug and date >= 1 and date <= 22:\n",
    "    print ('Ваш знак зодиака Лев')     \n",
    "elif month == aug and date >= 23 and date <= 31 or month == sep and date >= 1 and date <= 22:\n",
    "    print ('Ваш знак зодиака Дева')    \n",
    "elif month == sep and date >= 23 and date <= 30 or month == octb and date >= 1 and date <= 22:\n",
    "    print ('Ваш знак зодиака Весы')    \n",
    "elif month == octb and date >= 23 and date <= 31 or month == nov and date >= 1 and date <= 22:\n",
    "    print ('Ваш знак зодиака Скорпион')\n",
    "elif month == nov and date >= 23 and date <= 30 or month == dec and date >= 1 and date <= 21:\n",
    "    print ('Ваш знак зодиака Стрелец')    \n",
    "elif month == dec and date >= 22 and date <= 31 or month == jan and date >= 1 and date <= 19:\n",
    "    print ('Ваш знак зодиака Козерог')   \n",
    "else:    \n",
    "    print ('Вы ввели некорректные данные. Попробуйте еще раз.')"
   ]
  },
  {
   "cell_type": "markdown",
   "metadata": {},
   "source": [
    "Задание 4. Нужно разработать приложение для финансового планирования. Приложение учитывает сколько уходит на ипотеку, \"на жизнь\" и сколько нужно отложить на пенсию. Пользователь вводит:\n",
    "\n",
    "заработанную плату в месяц.\n",
    "сколько процентов от ЗП уходит на ипотеку.\n",
    "сколько процентов от ЗП уходит \"на жизнь\".\n",
    "сколько раз приходит премия в год.\n",
    "Остальная часть заработанной платы откладывается на пенсию.\n",
    "\n",
    "Также пользователю приходит премия в размере зарплаты, от которой половина уходит на отпуск, а вторая половина откладывается.\n",
    "\n",
    "Программа должна учитывать сколько премий было в год.\n",
    "\n",
    "Нужно вывести сколько денег тратит пользователь на ипотеку и сколько он накопит за год.\n",
    "\n",
    "Пример:\n",
    "\n",
    "Введите заработанную плату в месяц: 100000\n",
    "\n",
    "Введите сколько процентов уходит на ипотеку: 30\n",
    "\n",
    "Введите сколько процентов уходит на жизнь: 50\n",
    "\n",
    "Введите количество премий за год: 2\n",
    "\n",
    "Вывод: На ипотеку было потрачено: 360000 рублей Было накоплено: 340000 рублей"
   ]
  },
  {
   "cell_type": "code",
   "execution_count": 9,
   "metadata": {},
   "outputs": [
    {
     "name": "stdout",
     "output_type": "stream",
     "text": [
      "Введите з/п в месяц: 100000\n",
      "Введите сколько процентов уходит на ипотеку: 30\n",
      "Введите сколько процентов уходит на жизнь: 50\n",
      "Введите количество премий за год: 2\n",
      "Введите долю премии, которую вы откладываете: 50\n",
      "На ипотеку было потрачено 360000.0 рублей. Было накоплено 340000.0 рублей.\n"
     ]
    }
   ],
   "source": [
    "salary = int(input('Введите з/п в месяц: '))\n",
    "loan = int(input('Введите сколько процентов уходит на ипотеку: '))\n",
    "chill = int(input('Введите сколько процентов уходит на жизнь: '))\n",
    "bonus = int(input('Введите количество премий за год: '))\n",
    "bonus_2 = int(input('Введите долю премии, которую вы откладываете: '))\n",
    "debt = (((loan / 100) * salary) * 12)\n",
    "save = (((salary - ((chill / 100) * salary)) * 12) + ((salary * bonus) * (bonus_2 / 100))) - debt\n",
    "debt = float('{:.0f}'.format(debt))\n",
    "save = float('{:.0f}'.format(save))\n",
    "print (f'На ипотеку было потрачено {debt} рублей. Было накоплено {save} рублей.')"
   ]
  }
 ],
 "metadata": {
  "kernelspec": {
   "display_name": "Python 3",
   "language": "python",
   "name": "python3"
  },
  "language_info": {
   "codemirror_mode": {
    "name": "ipython",
    "version": 3
   },
   "file_extension": ".py",
   "mimetype": "text/x-python",
   "name": "python",
   "nbconvert_exporter": "python",
   "pygments_lexer": "ipython3",
   "version": "3.7.6"
  }
 },
 "nbformat": 4,
 "nbformat_minor": 4
}
