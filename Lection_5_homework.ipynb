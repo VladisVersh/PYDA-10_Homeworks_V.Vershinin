{
 "cells": [
  {
   "cell_type": "markdown",
   "metadata": {},
   "source": [
    "Вы работаете секретарем и вам постоянно приходят различные документы. Вы должны быть очень внимательны, чтобы не потерять ни один документ. Каталог документов хранится в следующем виде:"
   ]
  },
  {
   "cell_type": "code",
   "execution_count": 1,
   "metadata": {},
   "outputs": [],
   "source": [
    "documents = [\n",
    "    {'type': 'passport', 'number': '2207 876234', 'name': 'Василий Гупкин'},\n",
    "    {'type': 'invoice', 'number': '11-2', 'name': 'Геннадий Покемонов'},\n",
    "    {'type': 'insurance', 'number': '10006', 'name': 'Аристарх Павлов'}\n",
    "]"
   ]
  },
  {
   "cell_type": "markdown",
   "metadata": {},
   "source": [
    "Перечень полок, на которых находятся документы хранится в следующем виде:"
   ]
  },
  {
   "cell_type": "code",
   "execution_count": 2,
   "metadata": {},
   "outputs": [],
   "source": [
    "directories = {\n",
    "    '1': ['2207 876234', '11-2'],\n",
    "    '2': ['10006'],\n",
    "    '3': []\n",
    "}"
   ]
  },
  {
   "cell_type": "code",
   "execution_count": 3,
   "metadata": {},
   "outputs": [],
   "source": [
    "def print_people_list(citizens):\n",
    "    for citizen in citizens:\n",
    "        type_d = citizen['type']\n",
    "        num_d = citizen['number']\n",
    "        name_d_holder = citizen['name']\n",
    "        print(f'Тип документа: {type_d}. Номер документа: {num_d}. Имя, Фамилия: {name_d_holder}.')"
   ]
  },
  {
   "cell_type": "code",
   "execution_count": 4,
   "metadata": {},
   "outputs": [],
   "source": [
    "def sh_search():\n",
    "    user_input = input('Введите номер документа: ')\n",
    "    for keys, values in directories.items():\n",
    "        for el in values:\n",
    "            if user_input == el:\n",
    "                print(f'Документ находится на полке №{keys}.')\n",
    "    else:\n",
    "        print('Неверный(отсутствующий) номер документа.')"
   ]
  },
  {
   "cell_type": "code",
   "execution_count": 5,
   "metadata": {},
   "outputs": [],
   "source": [
    "def print_man():\n",
    "    doc_check = []\n",
    "    user_input = input('Введите номер документа: ')\n",
    "    for el in documents:\n",
    "        doc_check.append(el['number'])\n",
    "    if user_input in doc_check:\n",
    "        for el in documents:\n",
    "            aim = el['number']\n",
    "            result = el['name']\n",
    "            if user_input == aim:\n",
    "                print(f'Владелец документа: {result}.')\n",
    "    else:\n",
    "        print(f'Такого документа нет в базе данных.')"
   ]
  },
  {
   "cell_type": "code",
   "execution_count": 6,
   "metadata": {},
   "outputs": [],
   "source": [
    "def add_shelf():\n",
    "    user_input = input('Введите номер новой полки: ')\n",
    "    if user_input not in directories.keys():\n",
    "        directories[user_input] = []\n",
    "        print('Новая полка добавлена в каталог.')\n",
    "    else:\n",
    "        print('Данная полка уже существует.')"
   ]
  },
  {
   "cell_type": "code",
   "execution_count": 7,
   "metadata": {},
   "outputs": [],
   "source": [
    "def del_info():\n",
    "    check = []\n",
    "    user_input = input('Введите номер документа для удаления информации из базы данных: ')\n",
    "    for el in documents:\n",
    "        check.append(el['number'])\n",
    "    if user_input in check:\n",
    "        for el in documents:\n",
    "            if user_input in el['number']:\n",
    "                ind_1 = documents.index(el)\n",
    "                del(documents[ind_1])\n",
    "        for docs in directories.values():\n",
    "            for doc_num in docs:\n",
    "                if doc_num == user_input in docs:\n",
    "                    ind_2 = docs.index(doc_num)\n",
    "                    del(docs[ind_2])\n",
    "    else:\n",
    "        print('Такого документа нет в базе данных.')"
   ]
  },
  {
   "cell_type": "code",
   "execution_count": 8,
   "metadata": {},
   "outputs": [],
   "source": [
    "def move():\n",
    "    info_sh = []\n",
    "    info_dc = []\n",
    "    user_input_2 = input('Введите номер полки, на которую хотите переместить документ: ')\n",
    "    for shelves, docs in directories.items():\n",
    "        info_sh.append(shelves)\n",
    "        info_dc.extend(docs)\n",
    "    if user_input_2 in info_sh:\n",
    "        user_input_1 = input('Введите номер документа, который нужно переместить: ')\n",
    "        if user_input_1 in info_dc:\n",
    "            for shelves, docs in directories.items():\n",
    "                for doc_num in docs:\n",
    "                    if doc_num == user_input_1:\n",
    "                        ind = docs.index(doc_num)\n",
    "                        del(docs[ind])\n",
    "                if shelves == user_input_2:\n",
    "                    docs.append(user_input_1)\n",
    "        else:\n",
    "            print('Такого документа нет в базе данных.')       \n",
    "    else:\n",
    "        print('Такой полки нет в хранилище.')\n",
    "        add_shelf()\n",
    "        move()"
   ]
  },
  {
   "cell_type": "code",
   "execution_count": 9,
   "metadata": {},
   "outputs": [],
   "source": [
    "def add_new_man():\n",
    "    doc_check = []\n",
    "    sh_check = []\n",
    "    user_inp_sh = input('Введите номер полки, на которую хотите поместить документ: ')\n",
    "    for el in documents:\n",
    "        doc_check.append(el['number'])\n",
    "    for shelves, docs in directories.items():\n",
    "            sh_check.append(shelves)\n",
    "    if user_inp_sh in sh_check:\n",
    "        user_inp_type = input('Введите вид документа: ')\n",
    "        user_inp_num = input('Введите номер документа: ')\n",
    "        user_inp_name = input('Введите имя и фамилию владельца документа: ')\n",
    "        for shelves, docs in directories.items():\n",
    "            if shelves == user_inp_sh:\n",
    "                docs.append(user_inp_num)\n",
    "        if user_inp_num not in doc_check:\n",
    "            documents.append({'type': user_inp_type, 'number': user_inp_num, 'name': user_inp_name})\n",
    "        else:\n",
    "            print('Такой документ есть в базе данных.')        \n",
    "    else:\n",
    "        print('Такой полки нет в хранилище.')\n",
    "        add_shelf()\n",
    "        add_new_man()"
   ]
  },
  {
   "cell_type": "code",
   "execution_count": 10,
   "metadata": {},
   "outputs": [],
   "source": [
    "def main():\n",
    "    print('Здравствуйте!')\n",
    "    while True:\n",
    "        user_input = input('Введите команду: ')\n",
    "        if user_input == 'p':\n",
    "            print_man()\n",
    "        elif user_input == 's':\n",
    "            sh_search()\n",
    "        elif user_input == 'l':\n",
    "            print_people_list(documents)\n",
    "        elif user_input == 'as':\n",
    "            add_shelf()\n",
    "        elif user_input == 'd':\n",
    "            del_info()    \n",
    "        elif user_input == 'm':\n",
    "            move()\n",
    "        elif user_input == 'a':\n",
    "            add_new_man()     \n",
    "        elif user_input == 'end':\n",
    "            print('До свидания!')\n",
    "            break"
   ]
  },
  {
   "cell_type": "markdown",
   "metadata": {},
   "source": [
    "Необходимо реализовать пользовательские команды (внимание! это не название функций, которые должны быть выразительными, а команды, которые вводит пользователь, чтобы получить необходимый результат):\n",
    "\n",
    "p – people – команда, которая спросит номер документа и выведет имя человека, которому он принадлежит;\n",
    "\n",
    "s – shelf – команда, которая спросит номер документа и выведет номер полки, на которой он находится\n",
    "Правильно обработайте ситуации, когда пользователь будет вводить несуществующий документ.\n",
    "\n",
    "l – list – команда, которая выведет список всех документов в формате\n",
    "passport \"2207 876234\" \"Василий Гупкин\"\n",
    "\n",
    "as – add shelf – команда, которая спросит номер новой полки и добавит ее в перечень. Предусмотрите случай, когда пользователь добавляет полку, которая уже существует.\n",
    "\n",
    "d – delete – команда, которая спросит номер документа и удалит его из каталога и из перечня полок. Предусмотрите сценарий, когда пользователь вводит несуществующий документ;\n",
    "\n",
    "m – move – команда, которая спросит номер документа и целевую полку и переместит его с текущей полки на целевую. Корректно обработайте кейсы, когда пользователь пытается переместить несуществующий документ или переместить документ на несуществующую полку;\n",
    "\n",
    "a – add – команда, которая добавит новый документ в каталог и в перечень полок, спросив его номер, тип, имя владельца и номер полки, на котором он будет храниться. Корректно обработайте ситуацию, когда пользователь будет пытаться добавить документ на несуществующую полку.\n",
    "\n",
    "end - команда, которая завершает работу программы."
   ]
  },
  {
   "cell_type": "code",
   "execution_count": null,
   "metadata": {},
   "outputs": [
    {
     "name": "stdout",
     "output_type": "stream",
     "text": [
      "Здравствуйте!\n"
     ]
    }
   ],
   "source": [
    "main()"
   ]
  }
 ],
 "metadata": {
  "kernelspec": {
   "display_name": "Python 3",
   "language": "python",
   "name": "python3"
  },
  "language_info": {
   "codemirror_mode": {
    "name": "ipython",
    "version": 3
   },
   "file_extension": ".py",
   "mimetype": "text/x-python",
   "name": "python",
   "nbconvert_exporter": "python",
   "pygments_lexer": "ipython3",
   "version": "3.7.6"
  }
 },
 "nbformat": 4,
 "nbformat_minor": 4
}
